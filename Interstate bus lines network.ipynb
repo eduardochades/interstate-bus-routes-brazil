{
 "cells": [
  {
   "cell_type": "markdown",
   "metadata": {},
   "source": [
    "# Network analysis of interstate bus lines in Brazil\n",
    "## Dados Abertos ANTT"
   ]
  },
  {
   "cell_type": "code",
   "execution_count": 1,
   "metadata": {},
   "outputs": [],
   "source": [
    "import numpy as np\n",
    "import pandas as pd\n",
    "import matplotlib.pyplot as plt\n",
    "import seaborn as sns\n",
    "import descartes\n",
    "import geopandas as gpd\n",
    "from shapely.geometry import Point, Polygon\n",
    "import string\n",
    "import geopy\n",
    "from geopy import distance\n",
    "import unidecode\n",
    "import networkx as nx\n",
    "import graphviz as gv\n",
    "import pygraphviz as pgv\n",
    "import pydot\n",
    "\n",
    "%matplotlib inline"
   ]
  },
  {
   "cell_type": "code",
   "execution_count": 582,
   "metadata": {},
   "outputs": [],
   "source": [
    "# Importing data of the bus routes and municipalities codes and GPS coord\n",
    "\n",
    "data_bus = pd.read_csv('data_bus_v4.csv')\n",
    "\n",
    "data_bus = data_bus.drop(\"Unnamed: 0\",axis=1)\n",
    "\n",
    "municipios_ibge = pd.read_csv('municipiosibge.csv')"
   ]
  },
  {
   "cell_type": "markdown",
   "metadata": {},
   "source": [
    "## The making of the graph\n",
    "\n",
    "There are more than one possible representantion of the bus lines network, with directed graph or multi directed graph. We're going to use directed graph as it's possible to represent both ways of bus lines within the structure of the matrix. \n",
    "\n",
    "Let $G$ represent the connections between cities present in our bus lines database, that is, cities that are either origin or destination for interstate bus lines. A value (weight) $g_{i,j}$  may represent the quantity of travelling done from location $i$ to location $j$.\n",
    "\n",
    "\n",
    "For this, we're going to create a dataframe with columns and rows representing the cities with interstate lines, which in our graph will be the nodes, and in each $g_{i,j}$ there will be the quantity of times that a given line from $i$ to $j$ was travelled."
   ]
  },
  {
   "cell_type": "code",
   "execution_count": 4,
   "metadata": {},
   "outputs": [
    {
     "data": {
      "text/plain": [
       "False"
      ]
     },
     "execution_count": 4,
     "metadata": {},
     "output_type": "execute_result"
    }
   ],
   "source": [
    "# Creating a list with all cities in our database\n",
    "\n",
    "cidades = set()\n",
    "\n",
    "for i in data_bus.origem:\n",
    "    if i in cidades:\n",
    "        pass\n",
    "    else:\n",
    "        cidades.add(i)\n",
    "        \n",
    "for i in data_bus.destino:\n",
    "    if i in cidades:\n",
    "        pass\n",
    "    else:\n",
    "        cidades.add(i)\n",
    "\n",
    "\n",
    "cidades = sorted(list(cidades))\n",
    "\n",
    "matrix_quantity = pd.DataFrame(columns = cidades, index=cidades)\n",
    "\n",
    "for i in cidades:\n",
    "    matrix_quantity[i][i] = 0\n",
    "\n",
    "origem_destino = dict(data_bus.groupby([\"origem\",\"destino\"]).destino.count()) \n",
    "\n",
    "    \n",
    "for i in cidades:\n",
    "    for j in cidades:\n",
    "        try:\n",
    "            matrix_quantity[i][j] = float(origem_destino[(j,i)])\n",
    "        except LookupError:\n",
    "            matrix_quantity[i][j] = 0\n",
    "\n",
    "# Test to see whether all values are zero. If they are, there's something wrong.\n",
    "\n",
    "np.all(matrix_quantity==0)\n"
   ]
  },
  {
   "cell_type": "markdown",
   "metadata": {},
   "source": [
    "The easiest way is to transform the dataframe into a matrix, as it's the most natural representation in our case."
   ]
  },
  {
   "cell_type": "code",
   "execution_count": 6,
   "metadata": {},
   "outputs": [
    {
     "data": {
      "text/plain": [
       "dtype('float64')"
      ]
     },
     "execution_count": 6,
     "metadata": {},
     "output_type": "execute_result"
    }
   ],
   "source": [
    "# Shape the DataFrame matrix_viagens to a NumPy matrix\n",
    "\n",
    "matrix_quantity = np.asmatrix(matrix_quantity.to_numpy()).astype('float64')\n",
    "\n",
    "# We had to change the dtype to 'float64' otherwise it would be dtype('O') and networkx would be confused over it.\n",
    "\n",
    "matrix_quantity.dtype"
   ]
  },
  {
   "cell_type": "code",
   "execution_count": 37,
   "metadata": {},
   "outputs": [
    {
     "name": "stdout",
     "output_type": "stream",
     "text": [
      "<class 'networkx.classes.digraph.DiGraph'>\n",
      "True\n"
     ]
    }
   ],
   "source": [
    "# From NumPy matrix to networkx graph type\n",
    "# Naming it Q because of Quantity\n",
    "\n",
    "Q = nx.from_numpy_matrix(matrix_quantity, create_using=nx.DiGraph)\n",
    "\n",
    "# Checks:\n",
    "\n",
    "print(type(Q))\n",
    "\n",
    "print(Q.number_of_nodes() == len(cidades))\n"
   ]
  },
  {
   "cell_type": "markdown",
   "metadata": {},
   "source": [
    "# Basic network analysis - graph properties"
   ]
  },
  {
   "cell_type": "code",
   "execution_count": 38,
   "metadata": {},
   "outputs": [
    {
     "name": "stdout",
     "output_type": "stream",
     "text": [
      "2.073253833049404\n"
     ]
    }
   ],
   "source": [
    "# N: nodes, K: edges\n",
    "\n",
    "N, K = Q.order(), Q.size()\n",
    "avg_deg = float(K)/N # Average number of degrees\n",
    "print(avg_deg)"
   ]
  },
  {
   "cell_type": "markdown",
   "metadata": {},
   "source": [
    "Each node has, in average, 2 degrees. But this isn't representative of our network, since some marginal cities are only origin or destination, while others capital cities receive and send a massive quantity of buses through the country.\n",
    "\n",
    "For a more interesting analysis we're going to introduce the notions of indegree and outdegree. Simply, we consider indegree the number of edges coming into a node in a directed graph and outdegree the number of edges leaving a node in a directed graph. For more about this, see: https://doi.org/10.1016/B978-0-12-804452-0.00005-1. \n",
    "\n",
    "Within our context, indegree is then the number of bus departures and outdegree the number of bus arrivals."
   ]
  },
  {
   "cell_type": "code",
   "execution_count": 579,
   "metadata": {},
   "outputs": [
    {
     "data": {
      "text/plain": [
       "23"
      ]
     },
     "execution_count": 579,
     "metadata": {},
     "output_type": "execute_result"
    }
   ],
   "source": [
    "Q_in = Q.in_degree()\n",
    "\n",
    "Q_out = Q.out_degree()\n",
    "\n",
    "# Histogram of # of outdegrees and indegrees\n",
    "\n",
    "in_values = set(sorted(dict(Q_in).values()))\n",
    "\n",
    "in_hist = [sorted(dict(Q_in).values()).count(x) for x in in_values]\n",
    "\n",
    "out_values = set(sorted(dict(Q_out).values()))\n",
    "\n",
    "out_hist = [sorted(dict(Q_out).values()).count(x) for x in out_values]\n",
    "\n",
    "len(in_values)\n",
    "len(in_hist)"
   ]
  },
  {
   "cell_type": "code",
   "execution_count": 578,
   "metadata": {},
   "outputs": [],
   "source": [
    "# Plotting the indegrees and outdegrees histogram\n",
    "\n",
    "plt.figure()\n",
    "plt.plot(in_values,in_hist,'ro-')\n",
    "# plt.plot(out_values,out_hist,'bv-')\n",
    "plt.legend(['In-degree (arrival)','Out-degree (departure)'])\n",
    "plt.xlabel('Degree')\n",
    "plt.ylabel('# of nodes')\n",
    "plt.title('Interstate bus lines: arrivals and departures')\n",
    "# plt.savefigure('interstate_in_out.pdf')\n",
    "plt.close()"
   ]
  },
  {
   "cell_type": "code",
   "execution_count": null,
   "metadata": {},
   "outputs": [],
   "source": []
  }
 ],
 "metadata": {
  "kernelspec": {
   "display_name": "Python 3",
   "language": "python",
   "name": "python3"
  },
  "language_info": {
   "codemirror_mode": {
    "name": "ipython",
    "version": 3
   },
   "file_extension": ".py",
   "mimetype": "text/x-python",
   "name": "python",
   "nbconvert_exporter": "python",
   "pygments_lexer": "ipython3",
   "version": "3.7.3"
  }
 },
 "nbformat": 4,
 "nbformat_minor": 2
}
