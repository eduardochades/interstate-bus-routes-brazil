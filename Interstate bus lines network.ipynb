{
 "cells": [
  {
   "cell_type": "markdown",
   "metadata": {},
   "source": [
    "# Network analysis of interstate bus lines in Brazil\n",
    "## Dados Abertos ANTT"
   ]
  },
  {
   "cell_type": "code",
   "execution_count": 1,
   "metadata": {},
   "outputs": [],
   "source": [
    "import numpy as np\n",
    "import pandas as pd\n",
    "import matplotlib.pyplot as plt\n",
    "import seaborn as sns\n",
    "import descartes\n",
    "import geopandas as gpd\n",
    "from shapely.geometry import Point, Polygon\n",
    "import string\n",
    "import geopy\n",
    "from geopy import distance\n",
    "import unidecode\n",
    "import networkx as nx\n",
    "import graphviz as gv\n",
    "import pygraphviz as pgv\n",
    "import pydot\n",
    "\n",
    "%matplotlib inline"
   ]
  },
  {
   "cell_type": "code",
   "execution_count": 2,
   "metadata": {},
   "outputs": [],
   "source": [
    "# Importing data of the bus routes and municipalities codes and GPS coord\n",
    "\n",
    "data_bus = pd.read_csv('data_bus_v4.csv')\n",
    "\n",
    "data_bus = data_bus.drop(\"Unnamed: 0\",axis=1)\n",
    "\n",
    "municipios_ibge = pd.read_csv('municipiosibge.csv')\n",
    "\n",
    "municipios_ibge = municipios_ibge.drop(\"Unnamed: 0\",axis=1)"
   ]
  },
  {
   "cell_type": "markdown",
   "metadata": {},
   "source": [
    "## The making of the graph\n",
    "\n",
    "There are more than one possible representantion of the bus lines network, with directed graph or multi directed graph. We're going to use directed graph as it's possible to represent both ways of bus lines within the structure of the matrix. \n",
    "\n",
    "Let $G$ represent the connections between cities present in our bus lines database, that is, cities that are either origin or destination for interstate bus lines. A value (weight) $g_{i,j}$  may represent the quantity of travelling done from location $i$ to location $j$.\n",
    "\n",
    "\n",
    "For this, we're going to create a dataframe with columns and rows representing the cities with interstate lines, which in our graph will be the nodes, and in each $g_{i,j}$ there will be the quantity of times that a given line from $i$ to $j$ was travelled."
   ]
  },
  {
   "cell_type": "code",
   "execution_count": 3,
   "metadata": {},
   "outputs": [
    {
     "data": {
      "text/plain": [
       "False"
      ]
     },
     "execution_count": 3,
     "metadata": {},
     "output_type": "execute_result"
    }
   ],
   "source": [
    "# Creating a list with all cities in our database\n",
    "\n",
    "cidades = set()\n",
    "\n",
    "for i in data_bus.origem:\n",
    "    if i in cidades:\n",
    "        pass\n",
    "    else:\n",
    "        cidades.add(i)\n",
    "        \n",
    "for i in data_bus.destino:\n",
    "    if i in cidades:\n",
    "        pass\n",
    "    else:\n",
    "        cidades.add(i)\n",
    "\n",
    "\n",
    "cidades = sorted(list(cidades))\n",
    "\n",
    "matrix_quantity = pd.DataFrame(columns = cidades, index=cidades)\n",
    "\n",
    "for i in cidades:\n",
    "    matrix_quantity[i][i] = 0\n",
    "\n",
    "origem_destino = dict(data_bus.groupby([\"origem\",\"destino\"]).destino.count()) \n",
    "\n",
    "for i in cidades:\n",
    "    for j in cidades:\n",
    "        try:\n",
    "            matrix_quantity[i][j] = float(origem_destino[(j,i)])\n",
    "        except LookupError:\n",
    "            matrix_quantity[i][j] = 0\n",
    "\n",
    "# Test to see whether all values are zero. If they are, there's something wrong.\n",
    "\n",
    "np.all(matrix_quantity==0)\n"
   ]
  },
  {
   "cell_type": "markdown",
   "metadata": {},
   "source": [
    "The easiest way is to transform the dataframe into a matrix, as it's the most natural representation in our case."
   ]
  },
  {
   "cell_type": "code",
   "execution_count": 4,
   "metadata": {},
   "outputs": [
    {
     "data": {
      "text/plain": [
       "dtype('float64')"
      ]
     },
     "execution_count": 4,
     "metadata": {},
     "output_type": "execute_result"
    }
   ],
   "source": [
    "# Shape the DataFrame matrix_viagens to a NumPy matrix\n",
    "\n",
    "matrix_quantity = np.asmatrix(matrix_quantity.to_numpy()).astype('float64')\n",
    "\n",
    "# We had to change the dtype to 'float64' otherwise it would be dtype('O') and networkx would be confused over it.\n",
    "\n",
    "matrix_quantity.dtype"
   ]
  },
  {
   "cell_type": "code",
   "execution_count": 5,
   "metadata": {},
   "outputs": [
    {
     "name": "stdout",
     "output_type": "stream",
     "text": [
      "<class 'networkx.classes.digraph.DiGraph'>\n"
     ]
    },
    {
     "data": {
      "text/plain": [
       "True"
      ]
     },
     "execution_count": 5,
     "metadata": {},
     "output_type": "execute_result"
    }
   ],
   "source": [
    "# From NumPy matrix to networkx graph type\n",
    "# Naming it Q as Quantity\n",
    "\n",
    "Q = nx.from_numpy_matrix(matrix_quantity, create_using=nx.DiGraph)\n",
    "\n",
    "# Checks:\n",
    "\n",
    "print(type(Q))\n",
    "\n",
    "Q.number_of_nodes() == len(cidades)\n"
   ]
  },
  {
   "cell_type": "markdown",
   "metadata": {},
   "source": [
    "## Basic network analysis - graph properties"
   ]
  },
  {
   "cell_type": "code",
   "execution_count": 6,
   "metadata": {},
   "outputs": [
    {
     "name": "stdout",
     "output_type": "stream",
     "text": [
      "2.073253833049404\n"
     ]
    }
   ],
   "source": [
    "# N: nodes, K: edges\n",
    "\n",
    "N, K = Q.order(), Q.size()\n",
    "avg_deg = float(K)/N # Average number of degrees\n",
    "print(avg_deg)"
   ]
  },
  {
   "cell_type": "markdown",
   "metadata": {},
   "source": [
    "Each node has, in average, 2 degrees. But this isn't representative of our network, since some marginal cities are only origin or destination, while others capital cities receive and send a massive quantity of buses through the country.\n",
    "\n",
    "For a more interesting analysis we're going to introduce the notions of indegree and outdegree. Simply, we consider indegree the number of edges coming into a node in a directed graph and outdegree the number of edges leaving a node in a directed graph. For more about this, see: https://doi.org/10.1016/B978-0-12-804452-0.00005-1. \n",
    "\n",
    "Within our context, indegree is then the number of bus departures and outdegree the number of bus arrivals."
   ]
  },
  {
   "cell_type": "code",
   "execution_count": 7,
   "metadata": {},
   "outputs": [],
   "source": [
    "Q_in = Q.in_degree()\n",
    "\n",
    "Q_out = Q.out_degree()\n",
    "\n",
    "# Histogram of # of outdegrees and indegrees\n",
    "\n",
    "in_values = list(set(sorted(dict(Q_in).values())))\n",
    "\n",
    "in_hist = [sorted(dict(Q_in).values()).count(x) for x in in_values]\n",
    "\n",
    "out_values = list(set(sorted(dict(Q_out).values())))\n",
    "\n",
    "out_hist = [sorted(dict(Q_out).values()).count(x) for x in out_values]\n",
    "\n",
    "# in_values\n",
    "# in_hist"
   ]
  },
  {
   "cell_type": "code",
   "execution_count": 8,
   "metadata": {},
   "outputs": [
    {
     "data": {
      "image/png": "[encoded data removed]",
      "text/plain": [
       "<Figure size 432x288 with 1 Axes>"
      ]
     },
     "metadata": {
      "needs_background": "light"
     },
     "output_type": "display_data"
    }
   ],
   "source": [
    "# Plotting the indegrees and outdegrees histogram\n",
    "\n",
    "plt.figure()\n",
    "plt.plot(in_values,in_hist,'ro-')\n",
    "plt.plot(out_values,out_hist,'bv-')\n",
    "plt.legend(['In-degree (arrival)','Out-degree (departure)'])\n",
    "plt.xlabel('Degree')\n",
    "plt.ylabel('# of nodes')\n",
    "plt.title('Interstate bus lines: arrivals and departures')\n",
    "# plt.savefig('interstate_in_out.pdf')\n",
    "plt.show()"
   ]
  },
  {
   "cell_type": "markdown",
   "metadata": {},
   "source": [
    "## Centrality measures\n",
    "\n",
    "### Betweenness centrality\n",
    "\n",
    "How many times a node falls on the shortest path between other nodes? \n",
    "\n",
    "That is, for nodes $u$, with $v$ and $w$ as any couple of nodes and $\\sigma_{v,w}$ the path between $v$ and $w$:\n",
    "\n",
    "$$B(u) = \\sum_{u \\neq v \\neq w}\\frac{\\sigma_{v,w}(u)}{\\sigma_{v,w}}$$\n"
   ]
  },
  {
   "cell_type": "code",
   "execution_count": 9,
   "metadata": {},
   "outputs": [],
   "source": [
    "# Converting the directed to undirected graph\n",
    "\n",
    "Q_ud = Q.to_undirected()\n",
    "\n",
    "# The following function will do the math and return a dict type. We'll store it and return to it later\n",
    "\n",
    "B_Q_ud = nx.betweenness_centrality(Q_ud)"
   ]
  },
  {
   "cell_type": "markdown",
   "metadata": {},
   "source": [
    "### Closeness centrality\n",
    "\n",
    "What about how close a node is, in average, to all other nodes?\n",
    "\n",
    "We may define closeness as the inverse of farness. Consider $d(u,w)$ as the distance between nodes $u$ and $w$, with $w \\in G$. Then\n",
    "\n",
    "$$C(u) = \\sum_{w \\in G} \\frac{1}{d(u,w)}$$\n",
    "\n",
    "If the sum is of all distance is large, then the closeness is small and vice-versa. A node with high closeness centrality means a node with close relationships with many other nodes.\n"
   ]
  },
  {
   "cell_type": "code",
   "execution_count": 10,
   "metadata": {},
   "outputs": [],
   "source": [
    "# The following function will do the math and return a dict type. We'll store it and return to it later\n",
    "\n",
    "C_Q_ud = nx.closeness_centrality(Q_ud)"
   ]
  },
  {
   "cell_type": "markdown",
   "metadata": {},
   "source": [
    "### Eigenvector centrality\n",
    "\n",
    "How to measure influence of one node over another? What about one node over the network? Is it the quantity of links? Or who you're connected with? As in [here](https://www.sci.unich.it/~francesc/teaching/network/eigenvector.html):\n",
    "\n",
    ">A node is important if it is linked to by other important nodes.\n",
    "\n",
    "Consider our $G$ graph and let $A=(a_{v,t})$ be the adjacency matrix, with $a_{v,t} > 0 $ representing a link between nodes $v$ and $t$ with weight $a_{v,t}$. The relative centrality, $x$, score of vertex $v$ can be defined as:\n",
    "\n",
    "$$\n",
    "x_v = \\frac{1}{\\lambda}\\sum_{t \\in M(v)} x_t = \\frac{1}{\\lambda}\\sum_{t \\in G}a_{v,t}x_{t}\n",
    "$$\n",
    "\n",
    "with $M(v)$ as the set of neighbors of $v$ and $\\lambda$ a constant. Rearranging, this is\n",
    "\n",
    "$$\n",
    "Ax=\\lambda x \n",
    "$$"
   ]
  },
  {
   "cell_type": "code",
   "execution_count": 11,
   "metadata": {},
   "outputs": [],
   "source": [
    "# The following function will do the math and return a dict type. We'll store it and return to it later\n",
    "\n",
    "E_Q_ud = nx.eigenvector_centrality(Q_ud)"
   ]
  },
  {
   "cell_type": "markdown",
   "metadata": {},
   "source": [
    "## Comparing\n",
    "\n",
    "Knowing in basic terms what each measure means and how to calculate them, it's time to compare and understand how our graph behaves in face of what we've found. \n",
    "\n",
    "For this, it's good to see things clearly. We know by calling the measures lists that the cities with the highest values are the usual suspects, like São Paulo, Rio de Janeiro and Brasília, so instead focusing on them, let's plot all nodes and compare the measures against each other."
   ]
  },
  {
   "cell_type": "code",
   "execution_count": 121,
   "metadata": {},
   "outputs": [
    {
     "data": {
      "image/png": "[encoded data removed]",
      "text/plain": [
       "<Figure size 720x720 with 9 Axes>"
      ]
     },
     "metadata": {
      "needs_background": "light"
     },
     "output_type": "display_data"
    }
   ],
   "source": [
    "fig, axs = plt.subplots(3,3, sharex='col', sharey='row', figsize=(10,10))\n",
    "\n",
    "config = 'bo'\n",
    "\n",
    "B_plot = list(B_Q_ud.values())\n",
    "C_plot = list(C_Q_ud.values())\n",
    "E_plot = list(E_Q_ud.values())\n",
    "\n",
    "plots_graph = [B_plot, C_plot, E_plot]\n",
    "\n",
    "for i in range(len(plots_graph)):\n",
    "    for j in range(len(plots_graph)):\n",
    "        axs[i][j].plot(list(plots_graph[j]),list(plots_graph[-(i+1)]), config)\n",
    "\n",
    "axs.flat[0].set(ylabel='Eigenvector centrality')\n",
    "axs.flat[3].set(ylabel='Closeness centrality')\n",
    "axs.flat[6].set(xlabel='Betweenness centrality', ylabel='Betweenness centrality')\n",
    "axs.flat[7].set(xlabel='Closeness centrality')\n",
    "axs.flat[8].set(xlabel='Eigenvector centrality')\n",
    "\n",
    "for ax in axs.flat:\n",
    "    ax.label_outer()\n",
    "\n",
    "plt.show()"
   ]
  },
  {
   "cell_type": "markdown",
   "metadata": {},
   "source": [
    "A quick look tells us that there is one single city with high value in all measures, São Paulo. The gross part of nodes are gathered, but this subgroup is not homogeneous among the measures. Cities are much more close to each other than they are important in terms of relative influence or in-betweenness of the node.\n",
    "\n",
    "Looking at the measures by themselves it's also possible to identify that while betweenness centrality and eigenvector centrality are more within low range values, closeness centrality has only one node with low value the others within middle range values."
   ]
  },
  {
   "cell_type": "code",
   "execution_count": null,
   "metadata": {},
   "outputs": [],
   "source": []
  },
  {
   "cell_type": "code",
   "execution_count": null,
   "metadata": {},
   "outputs": [],
   "source": []
  },
  {
   "cell_type": "code",
   "execution_count": null,
   "metadata": {},
   "outputs": [],
   "source": []
  },
  {
   "cell_type": "code",
   "execution_count": 12,
   "metadata": {},
   "outputs": [
    {
     "ename": "NameError",
     "evalue": "name 'cidades_gps_' is not defined",
     "output_type": "error",
     "traceback": [
      "\u001b[1;31m---------------------------------------------------------------------------\u001b[0m",
      "\u001b[1;31mNameError\u001b[0m                                 Traceback (most recent call last)",
      "\u001b[1;32m<ipython-input-12-ac852d142dd1>\u001b[0m in \u001b[0;36m<module>\u001b[1;34m\u001b[0m\n\u001b[1;32m----> 1\u001b[1;33m \u001b[0mnx\u001b[0m\u001b[1;33m.\u001b[0m\u001b[0mdraw_networkx_nodes\u001b[0m\u001b[1;33m(\u001b[0m\u001b[0mQ_ud\u001b[0m\u001b[1;33m,\u001b[0m \u001b[0mpos\u001b[0m \u001b[1;33m=\u001b[0m \u001b[0mcidades_gps_\u001b[0m\u001b[1;33m,\u001b[0m \u001b[0mnode_color\u001b[0m \u001b[1;33m=\u001b[0m \u001b[0mlist\u001b[0m\u001b[1;33m(\u001b[0m\u001b[0mB_Q_ud\u001b[0m\u001b[1;33m)\u001b[0m\u001b[1;33m,\u001b[0m \u001b[0mnode_size\u001b[0m \u001b[1;33m=\u001b[0m \u001b[1;36m50\u001b[0m\u001b[1;33m,\u001b[0m \u001b[0mcmap\u001b[0m\u001b[1;33m=\u001b[0m\u001b[0mplt\u001b[0m\u001b[1;33m.\u001b[0m\u001b[0mcm\u001b[0m\u001b[1;33m.\u001b[0m\u001b[0mhot\u001b[0m\u001b[1;33m)\u001b[0m\u001b[1;33m\u001b[0m\u001b[1;33m\u001b[0m\u001b[0m\n\u001b[0m\u001b[0;32m      2\u001b[0m \u001b[0mnx\u001b[0m\u001b[1;33m.\u001b[0m\u001b[0mdraw_networkx_edges\u001b[0m\u001b[1;33m(\u001b[0m\u001b[0mQ_ud\u001b[0m\u001b[1;33m,\u001b[0m \u001b[0mpos\u001b[0m \u001b[1;33m=\u001b[0m \u001b[0mcidades_gps_\u001b[0m\u001b[1;33m)\u001b[0m\u001b[1;33m\u001b[0m\u001b[1;33m\u001b[0m\u001b[0m\n",
      "\u001b[1;31mNameError\u001b[0m: name 'cidades_gps_' is not defined"
     ]
    }
   ],
   "source": [
    "nx.draw_networkx_nodes(Q_ud, pos = cidades_gps_, node_color = list(B_Q_ud), node_size = 50, cmap=plt.cm.hot)\n",
    "nx.draw_networkx_edges(Q_ud, pos = cidades_gps_)"
   ]
  },
  {
   "cell_type": "code",
   "execution_count": 14,
   "metadata": {},
   "outputs": [],
   "source": [
    "cidades_gps = dict()\n",
    "cidades_gps_ = dict()\n",
    "\n",
    "for city in cidades:\n",
    "    lat = municipios_ibge.loc[list(municipios_ibge.nome_uf).index(city)][2]\n",
    "    long = municipios_ibge.loc[list(municipios_ibge.nome_uf).index(city)][3]\n",
    "    cidades_gps[city] = lat,long\n",
    "    cidades_gps_[cidades.index(city)] = lat,long\n"
   ]
  },
  {
   "cell_type": "code",
   "execution_count": null,
   "metadata": {},
   "outputs": [],
   "source": []
  },
  {
   "cell_type": "code",
   "execution_count": null,
   "metadata": {},
   "outputs": [],
   "source": []
  },
  {
   "cell_type": "code",
   "execution_count": null,
   "metadata": {},
   "outputs": [],
   "source": []
  }
 ],
 "metadata": {
  "kernelspec": {
   "display_name": "Python 3",
   "language": "python",
   "name": "python3"
  },
  "language_info": {
   "codemirror_mode": {
    "name": "ipython",
    "version": 3
   },
   "file_extension": ".py",
   "mimetype": "text/x-python",
   "name": "python",
   "nbconvert_exporter": "python",
   "pygments_lexer": "ipython3",
   "version": "3.7.3"
  }
 },
 "nbformat": 4,
 "nbformat_minor": 2
}
